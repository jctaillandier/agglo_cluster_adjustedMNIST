{
 "cells": [
  {
   "cell_type": "markdown",
   "metadata": {},
   "source": [
    "# Data pre-processing"
   ]
  },
  {
   "cell_type": "code",
   "execution_count": 1,
   "metadata": {},
   "outputs": [],
   "source": [
    "%matplotlib inline\n",
    "import csv\n",
    "import random\n",
    "import numpy as np\n",
    "import matplotlib.pyplot as plt\n",
    "import matplotlib.animation as animation\n",
    "from scipy.spatial.distance import squareform\n",
    "import itertools"
   ]
  },
  {
   "cell_type": "markdown",
   "metadata": {},
   "source": [
    "### training set"
   ]
  },
  {
   "cell_type": "code",
   "execution_count": 2,
   "metadata": {},
   "outputs": [],
   "source": [
    "data = open('mnist_train.csv')\n",
    "\n",
    "csv_file = csv.reader(data)\n",
    "\n",
    "training_points = []\n",
    "\n",
    "for row in csv_file:\n",
    "    training_points.append(row)\n",
    "\n",
    "# Remove \"headers\" of our csv file\n",
    "training_points.pop(0)\n",
    "\n",
    "data.close()\n",
    "\n",
    "# Convert string into integer\n",
    "training_points= np.int_(training_points)\n",
    "\n",
    "# Pick a ration for splitting the digits into a training and a validation set.\n",
    "ratio = int(len(training_points)*0.20)\n",
    "validation_set = training_points[:ratio]\n",
    "training_set = training_points[ratio:]\n",
    "\n",
    "# Separates the first column, which are the labels/target from or input points\n",
    "# for the validation and training set\n",
    "y_validation = validation_set[:,0]\n",
    "x_validation = validation_set[:,1:]\n",
    "y_train = training_set[:,0]\n",
    "x_train = training_set[:,1:]\n",
    "\n",
    "# For algorithm implementation purpose, create smaller training set\n",
    "small_y = y_train[:100]\n",
    "small_x = x_train[:100]\n"
   ]
  },
  {
   "cell_type": "markdown",
   "metadata": {},
   "source": [
    "### test set"
   ]
  },
  {
   "cell_type": "code",
   "execution_count": 3,
   "metadata": {},
   "outputs": [],
   "source": [
    "data = open('mnist_test.csv')\n",
    "\n",
    "csv_file = csv.reader(data)\n",
    "\n",
    "testing_points = []\n",
    "\n",
    "for row in csv_file:\n",
    "    testing_points.append(row)\n",
    "\n",
    "# Remove \"headers\" of our csv file\n",
    "testing_points.pop(0)\n",
    "\n",
    "\n",
    "data.close()\n",
    "\n",
    "# Convert string into integer\n",
    "testing_points= np.int_(testing_points)\n",
    "        \n",
    "# Separates the first column, which are the labels (y_test)\n",
    "# from or input points (x_test)\n",
    "y_test = testing_points[:,0]\n",
    "x_test = testing_points[:,1:]\n",
    "\n"
   ]
  },
  {
   "cell_type": "markdown",
   "metadata": {},
   "source": [
    "### Plotting utility functions"
   ]
  },
  {
   "cell_type": "code",
   "execution_count": 4,
   "metadata": {},
   "outputs": [],
   "source": [
    "def visualizeDigit(x):\n",
    "    # Vector conversion from 1 to 2 dimensions\n",
    "    matrix = np.reshape(x, (28,28))\n",
    "    plt.imshow(matrix, cmap='gray')"
   ]
  },
  {
   "cell_type": "code",
   "execution_count": 6,
   "metadata": {},
   "outputs": [
    {
     "data": {
      "image/png": "[encoded data removed]",
      "text/plain": [
       "<Figure size 432x288 with 1 Axes>"
      ]
     },
     "metadata": {},
     "output_type": "display_data"
    }
   ],
   "source": [
    "visualizeDigit(small_x[60])"
   ]
  },
  {
   "cell_type": "code",
   "execution_count": 6,
   "metadata": {
    "collapsed": true
   },
   "outputs": [],
   "source": [
    "def plot_confusion_matrix(cm, title='Confusion matrix', cmap=plt.cm.Blues):\n",
    "    \"\"\"\n",
    "    Plots confusion matrix.\n",
    "    \"\"\"\n",
    "    plt.figure(1, figsize=(15, 12), dpi=160)\n",
    "    plt.imshow(cm, interpolation='nearest', cmap=cmap)\n",
    "    plt.title(title)\n",
    "    plt.colorbar()\n",
    "    plt.tight_layout()\n",
    "    plt.ylabel('True label')\n",
    "    plt.xlabel('Predicted label')    \n",
    "    "
   ]
  },
  {
   "cell_type": "markdown",
   "metadata": {},
   "source": [
    "# Distances"
   ]
  },
  {
   "cell_type": "code",
   "execution_count": 8,
   "metadata": {},
   "outputs": [],
   "source": [
    "def euclidian(a, b):\n",
    "    return np.linalg.norm(a-b)\n"
   ]
  },
  {
   "cell_type": "code",
   "execution_count": null,
   "metadata": {},
   "outputs": [],
   "source": [
    "def michael()"
   ]
  },
  {
   "cell_type": "code",
   "execution_count": 9,
   "metadata": {
    "collapsed": true
   },
   "outputs": [],
   "source": [
    "def jaccard(X):\n",
    "    X = np.array(X)\n",
    "    n_samples = X.shape[0]\n",
    "    n_distance = n_samples * (n_samples - 1) / 2\n",
    "    d_array = np.zeros((n_distance))\n",
    "    for i, (idx1, idx2) in enumerate(itertools.combinations(range(n_samples),2)):\n",
    "        v1_nonzero_index = np.flatnonzero(X[idx1])\n",
    "        v2_nonzero_index = np.flatnonzero(X[idx2])\n",
    "        intersection = len(np.intersect1d(v1_nonzero_index, v2_nonzero_index))\n",
    "        union = len(np.union1d(v1_nonzero_index, v2_nonzero_index))\n",
    "        d_array[i] = 1.0 - (float(intersection) / float(union))\n",
    "    return squareform(d_array)\n"
   ]
  },
  {
   "cell_type": "markdown",
   "metadata": {},
   "source": [
    "# Algorithms"
   ]
  },
  {
   "cell_type": "markdown",
   "metadata": {},
   "source": [
    "### K-means without Sklearn"
   ]
  },
  {
   "cell_type": "code",
   "execution_count": 10,
   "metadata": {
    "collapsed": true
   },
   "outputs": [],
   "source": [
    "def Kmeans(train_data, k, epsilon=0, dist='euclidian'):\n",
    "    # List to store past centroid for graphing purposes\n",
    "    past_centroids = []\n",
    "    \n",
    "    # Set the distance calculation type\n",
    "    if dist == 'euclidian':\n",
    "        dist_method = euclidian\n",
    "        \n",
    "    # Set the dataset\n",
    "    data = train_data\n",
    "    \n",
    "    # Get the number of instances x (rows) and the number of feature (cols)\n",
    "    num_x, num_features = data.shape\n",
    "    \n",
    "    # Choose k random centroids and set them to our list\n",
    "    current_centroids = data[np.random.randint(0, num_x - 1, size=k)]\n",
    "    \n",
    "    past_centroids.append(current_centroids)\n",
    "    centroids_tracker = np.zeros(current_centroids.shape)\n",
    "    \n",
    "    # Initialize variables to store the clusters\n",
    "    classifier = np.zeros((num_x, 1))\n",
    "    norm = dist_method(current_centroids, centroids_tracker)\n",
    "    \n",
    "\n",
    "    while norm > epsilon:\n",
    "        norm = dist_method(current_centroids, centroids_tracker)\n",
    "        centroids_tracker = current_centroids\n",
    "        \n",
    "        # For each instance in the dataset, define a distance vector of size k\n",
    "        for index_x, x in enumerate(data):\n",
    "            dist_vec = np.zeros((k, 1))\n",
    "            \n",
    "            # For each centroid, compute the distance between x and the centroid\n",
    "            for index_centroid, centroid in enumerate(current_centroids):\n",
    "                dist_vec[index_centroid] = dist_method(centroid, x)\n",
    "            \n",
    "            # Find the smallest distance, assign that distance to a cluster\n",
    "            classifier[index_x, 0] = np.argmin(dist_vec)\n",
    "            \n",
    "        # Create a temporary list to keep track of the new centroids\n",
    "        temp_centroids = np.zeros((k, num_features))\n",
    "        \n",
    "        # For each cluster, get all the points assigned to it and compute the mean\n",
    "        for index in range(len(current_centroids)):\n",
    "            points = [i for i in range(len(classifier)) if classifier[i] == index]\n",
    "            centroid = np.mean(data[points], axis=0)\n",
    "            temp_centroids[index, :] = centroid\n",
    "            \n",
    "        # Set the new centroids to the current list\n",
    "        current_centroids = temp_centroids\n",
    "        \n",
    "        # Add our calculated centroids to our list of past centroids\n",
    "        past_centroids.append(temp_centroids)\n",
    "        \n",
    "    # Return final calculated centrois, list of past centrois, and \n",
    "    # assignment for which cluster each data point belongs to\n",
    "    return classifier, current_centroids"
   ]
  },
  {
   "cell_type": "markdown",
   "metadata": {},
   "source": [
    "Using small training set:"
   ]
  },
  {
   "cell_type": "code",
   "execution_count": 11,
   "metadata": {},
   "outputs": [
    {
     "name": "stdout",
     "output_type": "stream",
     "text": [
      "0.09\n"
     ]
    }
   ],
   "source": [
    "y, centroids = Kmeans(small_x, 9)\n",
    "y_predicted = np.int_(y[:,0])\n",
    "result = np.arange(small_y.shape[0])\n",
    "for i in range(small_y.shape[0]):\n",
    "    err = np.asscalar(y_predicted[i] - small_y[i])\n",
    "    if err is not 0: \n",
    "        result[i] = 0\n",
    "    else:\n",
    "        result[i] = 1\n",
    "        \n",
    "accuracy_rate = np.sum(result) / result.shape[0]\n",
    "\n",
    "print(accuracy_rate)"
   ]
  },
  {
   "cell_type": "markdown",
   "metadata": {},
   "source": [
    "Using whole training data set:"
   ]
  },
  {
   "cell_type": "code",
   "execution_count": 12,
   "metadata": {},
   "outputs": [
    {
     "name": "stdout",
     "output_type": "stream",
     "text": [
      "0.108541666667\n"
     ]
    }
   ],
   "source": [
    "y, centroids = Kmeans(x_train, 9)\n",
    "y_predicted = np.int_(y[:,0])\n",
    "result = np.arange(y_train.shape[0])\n",
    "for i in range(y_train.shape[0]):\n",
    "    err = np.asscalar(y_predicted[i] - y_train[i])\n",
    "    if err is not 0: \n",
    "        result[i] = 0\n",
    "    else:\n",
    "        result[i] = 1\n",
    "        \n",
    "accuracy_rate = np.sum(result) / result.shape[0]\n",
    "\n",
    "print(accuracy_rate)"
   ]
  },
  {
   "cell_type": "code",
   "execution_count": 13,
   "metadata": {},
   "outputs": [
    {
     "data": {
      "image/png": "[encoded data removed]",
      "text/plain": [
       "<matplotlib.figure.Figure at 0x107bbe748>"
      ]
     },
     "metadata": {},
     "output_type": "display_data"
    }
   ],
   "source": [
    "l = centroids.shape[0]\n",
    "i = 0\n",
    "for i in range(l):\n",
    "    visualizeDigit(centroids[i])        \n",
    "   "
   ]
  },
  {
   "cell_type": "markdown",
   "metadata": {},
   "source": [
    "### K-means with Sklearn"
   ]
  },
  {
   "cell_type": "code",
   "execution_count": 14,
   "metadata": {
    "collapsed": true
   },
   "outputs": [],
   "source": [
    "from sklearn.cluster import KMeans"
   ]
  },
  {
   "cell_type": "code",
   "execution_count": 15,
   "metadata": {},
   "outputs": [
    {
     "name": "stdout",
     "output_type": "stream",
     "text": [
      "0.0\n"
     ]
    }
   ],
   "source": [
    "kmeans = KMeans(n_clusters=10, random_state=0).fit(x_train)\n",
    "y_prediction = kmeans.predict(x_test)\n",
    "result = np.arange(y_test.shape[0])\n",
    "for i in range(y_test.shape[0]):\n",
    "    err = y_prediction[i] - y_test[i]\n",
    "    if err is not 0:\n",
    "        result[i] = 0\n",
    "    else:\n",
    "        result[i] = 1\n",
    "        \n",
    "accuracy_rate = np.sum(result) / result.shape[0]\n",
    "\n",
    "print(accuracy_rate)"
   ]
  },
  {
   "cell_type": "code",
   "execution_count": 16,
   "metadata": {},
   "outputs": [
    {
     "data": {
      "image/png": "[encoded data removed]",
      "text/plain": [
       "<matplotlib.figure.Figure at 0x60caa69b0>"
      ]
     },
     "metadata": {},
     "output_type": "display_data"
    }
   ],
   "source": [
    "centroids = kmeans.cluster_centers_\n",
    "for c in centroids:\n",
    "    visualizeDigit(c)"
   ]
  },
  {
   "cell_type": "markdown",
   "metadata": {},
   "source": [
    "## Isomap"
   ]
  },
  {
   "cell_type": "code",
   "execution_count": 17,
   "metadata": {
    "collapsed": true
   },
   "outputs": [],
   "source": [
    "from sklearn.datasets import load_digits\n",
    "from sklearn.manifold import Isomap\n",
    "shape = small_x.shape\n"
   ]
  },
  {
   "cell_type": "markdown",
   "metadata": {},
   "source": [
    "## PCoA"
   ]
  },
  {
   "cell_type": "code",
   "execution_count": 18,
   "metadata": {
    "collapsed": true
   },
   "outputs": [],
   "source": [
    "from sklearn import manifold\n",
    "from sklearn.manifold import MDS\n",
    "\n",
    "def PCoA(data, dist):\n",
    "    \n",
    "    matrix = data.values\n",
    "    n_features, n_samples = matrix.shape\n",
    "    \n",
    "    # Compute distance\n",
    "    if distance_matrix == 'Jaccard':\n",
    "        distance_matrix = distance.jaccard(matrix.T)\n",
    "    \n",
    "    # execute PCoA\n",
    "    mds = MDS(n_components=2, max_iter=3000, n_jobs=1)\n",
    "    positions = mds.fit(distance_matrix).embedding_\n",
    "    positions_with_sampleIndex = pd.DataFrame(positions, index=data.columns)"
   ]
  },
  {
   "cell_type": "code",
   "execution_count": 23,
   "metadata": {},
   "outputs": [
    {
     "data": {
      "text/plain": [
       "(1000, 1000)"
      ]
     },
     "execution_count": 23,
     "metadata": {},
     "output_type": "execute_result"
    }
   ],
   "source": [
    "from sklearn.metrics import pairwise_distances\n",
    "D = pairwise_distances(X)\n",
    "D.shape"
   ]
  },
  {
   "cell_type": "code",
   "execution_count": 25,
   "metadata": {},
   "outputs": [
    {
     "data": {
      "text/plain": [
       "True"
      ]
     },
     "execution_count": 25,
     "metadata": {},
     "output_type": "execute_result"
    }
   ],
   "source": [
    "D2 = pairwise_distances(X2)\n",
    "np.allclose(D, D2)"
   ]
  },
  {
   "cell_type": "code",
   "execution_count": 26,
   "metadata": {},
   "outputs": [
    {
     "data": {
      "image/png": "[encoded data removed]",
      "text/plain": [
       "<matplotlib.figure.Figure at 0x10309a320>"
      ]
     },
     "metadata": {},
     "output_type": "display_data"
    }
   ],
   "source": [
    "from sklearn.manifold import MDS\n",
    "model = MDS(n_components=2, dissimilarity='precomputed', random_state=1)\n",
    "out = model.fit_transform(D)\n"
   ]
  }
 ],
 "metadata": {
  "kernelspec": {
   "display_name": "Python 3",
   "language": "python",
   "name": "python3"
  },
  "language_info": {
   "codemirror_mode": {
    "name": "ipython",
    "version": 3
   },
   "file_extension": ".py",
   "mimetype": "text/x-python",
   "name": "python",
   "nbconvert_exporter": "python",
   "pygments_lexer": "ipython3",
   "version": "3.6.5"
  }
 },
 "nbformat": 4,
 "nbformat_minor": 2
}
